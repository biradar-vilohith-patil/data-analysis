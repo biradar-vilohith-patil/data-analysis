{
 "cells": [
  {
   "cell_type": "markdown",
   "id": "22a194e5",
   "metadata": {},
   "source": [
    "- Pandas – Data Analysis Library\n",
    "Why Learn Pandas?\\\n",
    "What is it?\\\n",
    "Pandas is a Python library for data manipulation and analysis. It provides Series (1D) and DataFrames (2D tabular data).\n",
    "\n",
    "Why we need it?\n",
    "1. Simplifies data cleaning, exploration, and manipulation.\n",
    "2. Handles large datasets efficiently.\n",
    "3. Built on top of NumPy for fast computations.\n",
    "\n",
    "\n",
    "Where is it used?\n",
    "1. Data Analysis & Reporting\n",
    "2. Machine Learning (preprocessing datasets)\n",
    "3. Finance, Healthcare, Marketing data analysis\n",
    "4. CSV/Excel/SQL data handling\n",
    " "
   ]
  },
  {
   "cell_type": "code",
   "execution_count": 2,
   "id": "59c9f0d3",
   "metadata": {},
   "outputs": [],
   "source": [
    "import pandas as pd"
   ]
  },
  {
   "cell_type": "markdown",
   "id": "88e9199c",
   "metadata": {},
   "source": [
    "3.Series & DataFrames\n"
   ]
  },
  {
   "cell_type": "code",
   "execution_count": 3,
   "id": "79538514",
   "metadata": {},
   "outputs": [
    {
     "name": "stdout",
     "output_type": "stream",
     "text": [
      "Series:\n",
      " 0    10\n",
      "1    20\n",
      "2    30\n",
      "3    40\n",
      "dtype: int64\n",
      "\n",
      "DataFrame:\n",
      "       Name  Age\n",
      "0    Alice   25\n",
      "1      Bob   30\n",
      "2  Charlie   35\n"
     ]
    }
   ],
   "source": [
    "# Series \n",
    "s = pd.Series([10, 20, 30, 40]) \n",
    "print(\"Series:\\n\", s) \n",
    "# DataFrame from dict \n",
    "data = {'Name': ['Alice','Bob','Charlie'], 'Age':[25,30,35]} \n",
    "df = pd.DataFrame(data) \n",
    "print(\"\\nDataFrame:\\n\", df)\n",
    " "
   ]
  },
  {
   "cell_type": "markdown",
   "id": "5f9d2a3f",
   "metadata": {},
   "source": [
    "- 4. Reading and exploring the data"
   ]
  },
  {
   "cell_type": "code",
   "execution_count": 14,
   "id": "5fe16389",
   "metadata": {},
   "outputs": [
    {
     "name": "stdout",
     "output_type": "stream",
     "text": [
      "     batsman  total_runs  out  numberofballs    average  strikerate\n",
      "0    V Kohli        5426  152           4111  35.697368  131.987351\n",
      "1   SK Raina        5386  160           3916  33.662500  137.538304\n",
      "2  RG Sharma        4902  161           3742  30.447205  130.999466\n",
      "3  DA Warner        4717  114           3292  41.377193  143.286756\n",
      "4   S Dhawan        4601  137           3665  33.583942  125.538881\n",
      "\n",
      "\n",
      "            batsman  total_runs  out  numberofballs  average  strikerate\n",
      "511        ND Doshi           0    1             13      0.0         0.0\n",
      "512         J Denly           0    1              1      0.0         0.0\n",
      "513         S Ladda           0    2              9      0.0         0.0\n",
      "514  V Pratap Singh           0    1              1      0.0         0.0\n",
      "515       S Kaushik           0    1              1      0.0         0.0\n",
      "\n",
      "\n",
      "<class 'pandas.core.frame.DataFrame'>\n",
      "RangeIndex: 516 entries, 0 to 515\n",
      "Data columns (total 6 columns):\n",
      " #   Column         Non-Null Count  Dtype  \n",
      "---  ------         --------------  -----  \n",
      " 0   batsman        516 non-null    object \n",
      " 1   total_runs     516 non-null    int64  \n",
      " 2   out            516 non-null    int64  \n",
      " 3   numberofballs  516 non-null    int64  \n",
      " 4   average        482 non-null    float64\n",
      " 5   strikerate     516 non-null    float64\n",
      "dtypes: float64(2), int64(3), object(1)\n",
      "memory usage: 24.3+ KB\n",
      "None\n",
      "\n",
      "\n",
      "        total_runs         out  numberofballs     average  strikerate\n",
      "count   516.000000  516.000000     516.000000  482.000000  516.000000\n",
      "mean    430.625969   17.063953     335.645349   16.355074  105.433442\n",
      "std     882.275431   28.124511     663.593679   11.146222   39.633938\n",
      "min       0.000000    0.000000       1.000000    0.000000    0.000000\n",
      "25%      15.000000    2.000000      17.000000    8.000000   84.362069\n",
      "50%      74.000000    5.500000      68.000000   14.607143  111.651584\n",
      "75%     340.500000   18.000000     290.000000   23.657609  130.499036\n",
      "max    5426.000000  161.000000    4111.000000   88.000000  250.000000\n",
      "\n",
      "\n",
      "(516, 6)\n"
     ]
    }
   ],
   "source": [
    "# Read CSV (replace with your file path)\n",
    "df = pd.read_csv(\"most_runs_average_strikerate.csv\")\n",
    " \n",
    "# Explore\n",
    "print(df.head())\n",
    "print(\"\\n\")\n",
    "print(df.tail())\n",
    "print(\"\\n\")\n",
    "print(df.info())\n",
    "print(\"\\n\")\n",
    "\n",
    "\n",
    "print(df.describe())\n",
    "print(\"\\n\")\n",
    "\n",
    "print(df.shape)"
   ]
  },
  {
   "cell_type": "code",
   "execution_count": 17,
   "id": "2b7d442e",
   "metadata": {},
   "outputs": [
    {
     "name": "stdout",
     "output_type": "stream",
     "text": [
      "0             V Kohli\n",
      "1            SK Raina\n",
      "2           RG Sharma\n",
      "3           DA Warner\n",
      "4            S Dhawan\n",
      "            ...      \n",
      "511          ND Doshi\n",
      "512           J Denly\n",
      "513           S Ladda\n",
      "514    V Pratap Singh\n",
      "515         S Kaushik\n",
      "Name: batsman, Length: 516, dtype: object\n",
      "\n",
      "\n",
      "            batsman  total_runs\n",
      "0           V Kohli        5426\n",
      "1          SK Raina        5386\n",
      "2         RG Sharma        4902\n",
      "3         DA Warner        4717\n",
      "4          S Dhawan        4601\n",
      "..              ...         ...\n",
      "511        ND Doshi           0\n",
      "512         J Denly           0\n",
      "513         S Ladda           0\n",
      "514  V Pratap Singh           0\n",
      "515       S Kaushik           0\n",
      "\n",
      "[516 rows x 2 columns]\n",
      "\n",
      "\n",
      "batsman             V Kohli\n",
      "total_runs             5426\n",
      "out                     152\n",
      "numberofballs          4111\n",
      "average           35.697368\n",
      "strikerate       131.987351\n",
      "Name: 0, dtype: object\n",
      "batsman             V Kohli\n",
      "total_runs             5426\n",
      "out                     152\n",
      "numberofballs          4111\n",
      "average           35.697368\n",
      "strikerate       131.987351\n",
      "Name: 0, dtype: object\n",
      "\n",
      "\n",
      "    batsman  out\n",
      "0   V Kohli  152\n",
      "1  SK Raina  160\n"
     ]
    }
   ],
   "source": [
    "# Select column\n",
    "print(df['batsman'])\n",
    "print(\"\\n\")\n",
    "\n",
    "# Select multiple columns\n",
    "print(df[['batsman','total_runs']])\n",
    "print(\"\\n\")\n",
    "\n",
    "# Select row by index\n",
    "print(df.iloc[0])       # first row\n",
    "print(df.loc[0])        # first row using label\n",
    "print(\"\\n\")\n",
    "\n",
    "# Select subset of rows and columns\n",
    "print(df.loc[0:1, ['batsman','out']])"
   ]
  },
  {
   "cell_type": "code",
   "execution_count": 18,
   "id": "1980b08b",
   "metadata": {},
   "outputs": [
    {
     "name": "stdout",
     "output_type": "stream",
     "text": [
      "       batsman  total_runs  out  numberofballs    average  strikerate\n",
      "0      V Kohli        5426  152           4111  35.697368  131.987351\n",
      "1     SK Raina        5386  160           3916  33.662500  137.538304\n",
      "2    RG Sharma        4902  161           3742  30.447205  130.999466\n",
      "3    DA Warner        4717  114           3292  41.377193  143.286756\n",
      "4     S Dhawan        4601  137           3665  33.583942  125.538881\n",
      "..         ...         ...  ...            ...        ...         ...\n",
      "118  LR Shukla         405   29            346  13.965517  117.052023\n",
      "123   R Ashwin         376   33            336  11.393939  111.904762\n",
      "126   A Mishra         366   29            385  12.620690   95.064935\n",
      "128   R Bhatia         342   29            284  11.793103  120.422535\n",
      "129    P Kumar         340   34            314  10.000000  108.280255\n",
      "\n",
      "[97 rows x 6 columns]\n",
      "              batsman  total_runs  out  numberofballs    average  strikerate\n",
      "2           RG Sharma        4902  161           3742  30.447205  130.999466\n",
      "1            SK Raina        5386  160           3916  33.662500  137.538304\n",
      "7          RV Uthappa        4420  156           3381  28.333333  130.730553\n",
      "0             V Kohli        5426  152           4111  35.697368  131.987351\n",
      "11         KD Karthik        3669  138           2813  26.586957  130.430146\n",
      "..                ...         ...  ...            ...        ...         ...\n",
      "455       A Dananjaya           4    0              5        NaN   80.000000\n",
      "461          RS Sodhi           4    0              2        NaN  200.000000\n",
      "464           S Tyagi           3    0              4        NaN   75.000000\n",
      "468         JE Taylor           3    0              3        NaN  100.000000\n",
      "478  Mashrafe Mortaza           2    0              2        NaN  100.000000\n",
      "\n",
      "[516 rows x 6 columns]\n"
     ]
    }
   ],
   "source": [
    "# Filter rows\n",
    "print(df[df['out'] > 28])\n",
    " \n",
    "# Sort by Age\n",
    "print(df.sort_values('out', ascending=False))"
   ]
  },
  {
   "cell_type": "code",
   "execution_count": 19,
   "id": "b07f5d6b",
   "metadata": {},
   "outputs": [
    {
     "name": "stdout",
     "output_type": "stream",
     "text": [
      "            batsman  total_runs  out  numberofballs    average  strikerate  \\\n",
      "0           V Kohli        5426  152           4111  35.697368  131.987351   \n",
      "1          SK Raina        5386  160           3916  33.662500  137.538304   \n",
      "2         RG Sharma        4902  161           3742  30.447205  130.999466   \n",
      "3         DA Warner        4717  114           3292  41.377193  143.286756   \n",
      "4          S Dhawan        4601  137           3665  33.583942  125.538881   \n",
      "..              ...         ...  ...            ...        ...         ...   \n",
      "511        ND Doshi           0    1             13   0.000000    0.000000   \n",
      "512         J Denly           0    1              1   0.000000    0.000000   \n",
      "513         S Ladda           0    2              9   0.000000    0.000000   \n",
      "514  V Pratap Singh           0    1              1   0.000000    0.000000   \n",
      "515       S Kaushik           0    1              1   0.000000    0.000000   \n",
      "\n",
      "     total_runs_add5  \n",
      "0               5431  \n",
      "1               5391  \n",
      "2               4907  \n",
      "3               4722  \n",
      "4               4606  \n",
      "..               ...  \n",
      "511                5  \n",
      "512                5  \n",
      "513                5  \n",
      "514                5  \n",
      "515                5  \n",
      "\n",
      "[516 rows x 7 columns]\n",
      "\n",
      "\n",
      "            batsman  total_runs  out  numberofballs    average  strikerate\n",
      "0           V Kohli        5426  152           4111  35.697368  131.987351\n",
      "1          SK Raina        5386  160           3916  33.662500  137.538304\n",
      "2         RG Sharma        4902  161           3742  30.447205  130.999466\n",
      "3         DA Warner        4717  114           3292  41.377193  143.286756\n",
      "4          S Dhawan        4601  137           3665  33.583942  125.538881\n",
      "..              ...         ...  ...            ...        ...         ...\n",
      "511        ND Doshi           0    1             13   0.000000    0.000000\n",
      "512         J Denly           0    1              1   0.000000    0.000000\n",
      "513         S Ladda           0    2              9   0.000000    0.000000\n",
      "514  V Pratap Singh           0    1              1   0.000000    0.000000\n",
      "515       S Kaushik           0    1              1   0.000000    0.000000\n",
      "\n",
      "[516 rows x 6 columns]\n",
      "\n",
      "\n",
      "         Score\n",
      "Name          \n",
      "Alice     82.5\n",
      "Bob       80.0\n",
      "Charlie   95.0\n"
     ]
    }
   ],
   "source": [
    "# Add new column\n",
    "df['total_runs_add5'] = df['total_runs'] + 5\n",
    "print(df)\n",
    "print(\"\\n\")\n",
    " \n",
    "# Drop column\n",
    "df = df.drop('total_runs_add5', axis=1)\n",
    "print(df)\n",
    "print(\"\\n\")\n",
    "\n",
    " \n",
    "# 8. GroupBy & Aggregation\n",
    "data = {'Name':['Alice','Bob','Charlie','Alice','Bob'],\n",
    "        'Score':[85,90,95,80,70]}\n",
    "df = pd.DataFrame(data)\n",
    " \n",
    "# Group by Name and calculate mean score\n",
    "grouped = df.groupby('Name').mean()\n",
    "print(grouped)\n",
    " "
   ]
  },
  {
   "cell_type": "markdown",
   "id": "c2fce2e2",
   "metadata": {},
   "source": [
    "9. Handling Missing Data"
   ]
  },
  {
   "cell_type": "code",
   "execution_count": 21,
   "id": "91a53a92",
   "metadata": {},
   "outputs": [
    {
     "name": "stdout",
     "output_type": "stream",
     "text": [
      "      Name        Age\n",
      "0    Alice  25.000000\n",
      "1      Bob  33.333333\n",
      "2  Charlie  35.000000\n",
      "3    David  40.000000\n"
     ]
    }
   ],
   "source": [
    "data = {'Name':['Alice','Bob','Charlie','David'],\n",
    "        'Age':[25, None, 35, 40]}\n",
    "df = pd.DataFrame(data)\n",
    " \n",
    "# Fill missing value\n",
    "df['Age'] = df['Age'].fillna(df['Age'].mean())\n",
    "print(df)\n",
    " \n",
    "# Drop rows with missing values\n",
    "# df = df.dropna()"
   ]
  },
  {
   "cell_type": "code",
   "execution_count": null,
   "id": "30386ecd",
   "metadata": {},
   "outputs": [],
   "source": []
  }
 ],
 "metadata": {
  "kernelspec": {
   "display_name": "base",
   "language": "python",
   "name": "python3"
  },
  "language_info": {
   "codemirror_mode": {
    "name": "ipython",
    "version": 3
   },
   "file_extension": ".py",
   "mimetype": "text/x-python",
   "name": "python",
   "nbconvert_exporter": "python",
   "pygments_lexer": "ipython3",
   "version": "3.13.5"
  }
 },
 "nbformat": 4,
 "nbformat_minor": 5
}
